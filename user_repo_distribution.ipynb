{
 "cells": [
  {
   "cell_type": "code",
   "execution_count": 1,
   "source": [
    "import numpy as np\n",
    "import matplotlib.pyplot as plt\n",
    "import pickle\n",
    "from os import path"
   ],
   "outputs": [],
   "metadata": {}
  },
  {
   "cell_type": "code",
   "execution_count": 2,
   "source": [
    "if path.exists('./data/interaction_matrix.p'):\n",
    "    interaction_matrix = pickle.load(open('./data/interaction_matrix.p', 'rb'))\n",
    "else:\n",
    "    from db_manager import users, repositories, close\n",
    "\n",
    "    users_count = users.count_documents({})\n",
    "    repos_count = repositories.count_documents({'$and': [{'disabled': False}, {'archived': False}]})\n",
    "\n",
    "    # select users from the database\n",
    "    all_users = list(users.find({}))\n",
    "    # select repos from the database\n",
    "    all_repos = list(repositories.find({'$and': [{'disabled': False}, {'archived': False}]}))\n",
    "\n",
    "    users_id_map = {}\n",
    "    repos_id_map = {}\n",
    "    user_id_counter = 0\n",
    "    repo_id_counter = 0\n",
    "\n",
    "    interaction_matrix = np.zeros((users_count, repos_count), np.int8)\n",
    "    for user in all_users:\n",
    "        if user['_id'] not in users_id_map:\n",
    "            users_id_map[user['_id']] = user_id_counter\n",
    "            user_id_counter += 1\n",
    "\n",
    "        current_user_id = users_id_map[user['_id']]\n",
    "\n",
    "        for repo in all_repos:\n",
    "            # archived or disabled repositorues should not be considered\n",
    "            if repo['archived'] is True or repo['disabled'] is True:\n",
    "                continue\n",
    "\n",
    "            if repo['_id'] not in repos_id_map:\n",
    "                repos_id_map[repo['_id']] = repo_id_counter\n",
    "                repo_id_counter += 1\n",
    "            \n",
    "            current_repo_id = repos_id_map[repo['_id']]\n",
    "            \n",
    "            # watch interaction\n",
    "            watched_repos = user['subscriptions_id']\n",
    "            if repo['_id'] in watched_repos:\n",
    "                interaction_matrix[current_user_id, current_repo_id] = 1\n",
    "            # star interaction\n",
    "            starred_repos = user['starred_repos_id']\n",
    "            if repo['_id'] in starred_repos:\n",
    "                interaction_matrix[current_user_id, current_repo_id] = 1\n",
    "            # fork interaction\n",
    "            fork_repos = user['fork_repos_id']\n",
    "            if repo['_id'] in fork_repos:\n",
    "                interaction_matrix[current_user_id, current_repo_id] = 1\n",
    "            # own interaction\n",
    "            own_repos = user['own_repos_id']\n",
    "            if repo['_id'] in own_repos:\n",
    "                interaction_matrix[current_user_id, current_repo_id] = 1\n",
    "\n",
    "    close()\n",
    "    pickle.dump(interaction_matrix, open('./data/interaction_matrix.p', 'wb'))"
   ],
   "outputs": [],
   "metadata": {}
  },
  {
   "cell_type": "code",
   "execution_count": 6,
   "source": [
    "users_per_repo = np.sum(interaction_matrix, axis=0)"
   ],
   "outputs": [
    {
     "output_type": "execute_result",
     "data": {
      "text/plain": [
       "7054"
      ]
     },
     "metadata": {},
     "execution_count": 6
    }
   ],
   "metadata": {}
  },
  {
   "cell_type": "code",
   "execution_count": 9,
   "source": [
    "plt.boxplot(users_per_repo)"
   ],
   "outputs": [
    {
     "output_type": "execute_result",
     "data": {
      "text/plain": [
       "{'whiskers': [<matplotlib.lines.Line2D at 0x7f95526a33d0>,\n",
       "  <matplotlib.lines.Line2D at 0x7f95526b1d30>],\n",
       " 'caps': [<matplotlib.lines.Line2D at 0x7f95526b1eb0>,\n",
       "  <matplotlib.lines.Line2D at 0x7f95526c1b20>],\n",
       " 'boxes': [<matplotlib.lines.Line2D at 0x7f95526a3ee0>],\n",
       " 'medians': [<matplotlib.lines.Line2D at 0x7f95526c1760>],\n",
       " 'fliers': [<matplotlib.lines.Line2D at 0x7f95526d0970>],\n",
       " 'means': []}"
      ]
     },
     "metadata": {},
     "execution_count": 9
    },
    {
     "output_type": "display_data",
     "data": {
      "image/png": "[encoded data removed]",
      "text/plain": [
       "<Figure size 432x288 with 1 Axes>"
      ]
     },
     "metadata": {
      "needs_background": "light"
     }
    }
   ],
   "metadata": {}
  },
  {
   "cell_type": "code",
   "execution_count": 12,
   "source": [
    "plt.boxplot(users_per_repo[users_per_repo<55])"
   ],
   "outputs": [
    {
     "output_type": "execute_result",
     "data": {
      "text/plain": [
       "{'whiskers': [<matplotlib.lines.Line2D at 0x7f95523e1220>,\n",
       "  <matplotlib.lines.Line2D at 0x7f95523f0b20>],\n",
       " 'caps': [<matplotlib.lines.Line2D at 0x7f95523f0760>,\n",
       "  <matplotlib.lines.Line2D at 0x7f9552400970>],\n",
       " 'boxes': [<matplotlib.lines.Line2D at 0x7f95523e1d60>],\n",
       " 'medians': [<matplotlib.lines.Line2D at 0x7f95524002e0>],\n",
       " 'fliers': [<matplotlib.lines.Line2D at 0x7f955240f7c0>],\n",
       " 'means': []}"
      ]
     },
     "metadata": {},
     "execution_count": 12
    },
    {
     "output_type": "display_data",
     "data": {
      "image/png": "[encoded data removed]",
      "text/plain": [
       "<Figure size 432x288 with 1 Axes>"
      ]
     },
     "metadata": {
      "needs_background": "light"
     }
    }
   ],
   "metadata": {}
  },
  {
   "cell_type": "code",
   "execution_count": 13,
   "source": [
    "# remove outliner\n",
    "users_per_repo = users_per_repo[users_per_repo<55]"
   ],
   "outputs": [],
   "metadata": {}
  },
  {
   "cell_type": "code",
   "execution_count": 24,
   "source": [
    "plt.hist(users_per_repo, density=True)\n",
    "plt.xlabel('Number of users per repository')\n",
    "plt.ylabel('Probability density')\n",
    "plt.title('Distribution of users per repository')"
   ],
   "outputs": [
    {
     "output_type": "execute_result",
     "data": {
      "text/plain": [
       "Text(0.5, 1.0, 'Distribution of users per repository')"
      ]
     },
     "metadata": {},
     "execution_count": 24
    },
    {
     "output_type": "display_data",
     "data": {
      "image/png": "[encoded data removed]",
      "text/plain": [
       "<Figure size 432x288 with 1 Axes>"
      ]
     },
     "metadata": {
      "needs_background": "light"
     }
    }
   ],
   "metadata": {}
  },
  {
   "cell_type": "code",
   "execution_count": 17,
   "source": [
    "arg_sort = np.argsort(users_per_repo)[::-1]\n",
    "sorted_users_per_repo = users_per_repo[arg_sort]"
   ],
   "outputs": [],
   "metadata": {}
  },
  {
   "cell_type": "code",
   "execution_count": 22,
   "source": [
    "# plt.bar(range(len(sorted_users_per_repo)), sorted_users_per_repo, tick_label=arg_sort)\n",
    "plt.bar(range(len(sorted_users_per_repo)), sorted_users_per_repo)\n",
    "plt.xlabel('Repositories')\n",
    "plt.ylabel('Number of users per repository')\n",
    "plt.title('Distribution of users per repository')"
   ],
   "outputs": [
    {
     "output_type": "execute_result",
     "data": {
      "text/plain": [
       "Text(0.5, 1.0, 'Distribution of users per repository')"
      ]
     },
     "metadata": {},
     "execution_count": 22
    },
    {
     "output_type": "display_data",
     "data": {
      "image/png": "[encoded data removed]",
      "text/plain": [
       "<Figure size 432x288 with 1 Axes>"
      ]
     },
     "metadata": {
      "needs_background": "light"
     }
    }
   ],
   "metadata": {}
  }
 ],
 "metadata": {
  "orig_nbformat": 4,
  "language_info": {
   "name": "python",
   "version": "3.8.10",
   "mimetype": "text/x-python",
   "codemirror_mode": {
    "name": "ipython",
    "version": 3
   },
   "pygments_lexer": "ipython3",
   "nbconvert_exporter": "python",
   "file_extension": ".py"
  },
  "kernelspec": {
   "name": "python3",
   "display_name": "Python 3.8.10 64-bit"
  },
  "interpreter": {
   "hash": "31f2aee4e71d21fbe5cf8b01ff0e069b9275f58929596ceb00d14d90e3e16cd6"
  }
 },
 "nbformat": 4,
 "nbformat_minor": 2
}