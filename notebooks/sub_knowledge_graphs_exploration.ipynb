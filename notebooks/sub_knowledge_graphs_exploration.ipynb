{
 "cells": [
  {
   "cell_type": "code",
   "execution_count": 1,
   "metadata": {},
   "outputs": [
    {
     "name": "stderr",
     "output_type": "stream",
     "text": [
      "Using backend: pytorch\n"
     ]
    }
   ],
   "source": [
    "import numpy as np\n",
    "import matplotlib.pyplot as plt\n",
    "import dgl\n",
    "import pickle\n",
    "import torch\n",
    "from os import path\n",
    "import dgl.function as fn"
   ]
  },
  {
   "cell_type": "code",
   "execution_count": 3,
   "metadata": {},
   "outputs": [
    {
     "data": {
      "text/plain": [
       "[Graph(num_nodes={'repo': 7054, 'user': 4417},\n",
       "       num_edges={('repo', 'forked-by', 'user'): 222, ('repo', 'owned-by', 'user'): 581, ('repo', 'starred-by', 'user'): 8521, ('repo', 'watched-by', 'user'): 3371, ('user', 'fork', 'repo'): 222, ('user', 'own', 'repo'): 581, ('user', 'star', 'repo'): 8521, ('user', 'watch', 'repo'): 3371},\n",
       "       metagraph=[('repo', 'user', 'forked-by'), ('repo', 'user', 'owned-by'), ('repo', 'user', 'starred-by'), ('repo', 'user', 'watched-by'), ('user', 'repo', 'fork'), ('user', 'repo', 'own'), ('user', 'repo', 'star'), ('user', 'repo', 'watch')]),\n",
       " Graph(num_nodes={'repo': 7054, 'user': 4417},\n",
       "       num_edges={('repo', 'forked-by', 'user'): 74, ('repo', 'owned-by', 'user'): 194, ('repo', 'starred-by', 'user'): 2840, ('repo', 'watched-by', 'user'): 1124, ('user', 'fork', 'repo'): 74, ('user', 'own', 'repo'): 194, ('user', 'star', 'repo'): 2840, ('user', 'watch', 'repo'): 1124},\n",
       "       metagraph=[('repo', 'user', 'forked-by'), ('repo', 'user', 'owned-by'), ('repo', 'user', 'starred-by'), ('repo', 'user', 'watched-by'), ('user', 'repo', 'fork'), ('user', 'repo', 'own'), ('user', 'repo', 'star'), ('user', 'repo', 'watch')]),\n",
       " Graph(num_nodes={'repo': 7054, 'user': 4417},\n",
       "       num_edges={('repo', 'forked-by', 'user'): 74, ('repo', 'owned-by', 'user'): 193, ('repo', 'starred-by', 'user'): 2841, ('repo', 'watched-by', 'user'): 1123, ('user', 'fork', 'repo'): 74, ('user', 'own', 'repo'): 193, ('user', 'star', 'repo'): 2841, ('user', 'watch', 'repo'): 1123},\n",
       "       metagraph=[('repo', 'user', 'forked-by'), ('repo', 'user', 'owned-by'), ('repo', 'user', 'starred-by'), ('repo', 'user', 'watched-by'), ('user', 'repo', 'fork'), ('user', 'repo', 'own'), ('user', 'repo', 'star'), ('user', 'repo', 'watch')]),\n",
       " Graph(num_nodes={'repo': 7054, 'user': 4417},\n",
       "       num_edges={('repo', 'forked-by', 'user'): 222, ('repo', 'owned-by', 'user'): 581, ('repo', 'starred-by', 'user'): 8521, ('repo', 'watched-by', 'user'): 3371, ('user', 'fork', 'repo'): 222, ('user', 'own', 'repo'): 581, ('user', 'star', 'repo'): 8521, ('user', 'watch', 'repo'): 3371},\n",
       "       metagraph=[('repo', 'user', 'forked-by'), ('repo', 'user', 'owned-by'), ('repo', 'user', 'starred-by'), ('repo', 'user', 'watched-by'), ('user', 'repo', 'fork'), ('user', 'repo', 'own'), ('user', 'repo', 'star'), ('user', 'repo', 'watch')]),\n",
       " Graph(num_nodes={'repo': 7054, 'user': 4417},\n",
       "       num_edges={('repo', 'forked-by', 'user'): 222, ('repo', 'owned-by', 'user'): 581, ('repo', 'starred-by', 'user'): 8521, ('repo', 'watched-by', 'user'): 3371, ('user', 'fork', 'repo'): 222, ('user', 'own', 'repo'): 581, ('user', 'star', 'repo'): 8521, ('user', 'watch', 'repo'): 3371},\n",
       "       metagraph=[('repo', 'user', 'forked-by'), ('repo', 'user', 'owned-by'), ('repo', 'user', 'starred-by'), ('repo', 'user', 'watched-by'), ('user', 'repo', 'fork'), ('user', 'repo', 'own'), ('user', 'repo', 'star'), ('user', 'repo', 'watch')]),\n",
       " Graph(num_nodes={'repo': 7054, 'user': 4417},\n",
       "       num_edges={('repo', 'forked-by', 'user'): 74, ('repo', 'owned-by', 'user'): 194, ('repo', 'starred-by', 'user'): 2840, ('repo', 'watched-by', 'user'): 1124, ('user', 'fork', 'repo'): 74, ('user', 'own', 'repo'): 194, ('user', 'star', 'repo'): 2840, ('user', 'watch', 'repo'): 1124},\n",
       "       metagraph=[('repo', 'user', 'forked-by'), ('repo', 'user', 'owned-by'), ('repo', 'user', 'starred-by'), ('repo', 'user', 'watched-by'), ('user', 'repo', 'fork'), ('user', 'repo', 'own'), ('user', 'repo', 'star'), ('user', 'repo', 'watch')]),\n",
       " Graph(num_nodes={'repo': 7054, 'user': 4417},\n",
       "       num_edges={('repo', 'forked-by', 'user'): 74, ('repo', 'owned-by', 'user'): 194, ('repo', 'starred-by', 'user'): 2840, ('repo', 'watched-by', 'user'): 1124, ('user', 'fork', 'repo'): 74, ('user', 'own', 'repo'): 194, ('user', 'star', 'repo'): 2840, ('user', 'watch', 'repo'): 1124},\n",
       "       metagraph=[('repo', 'user', 'forked-by'), ('repo', 'user', 'owned-by'), ('repo', 'user', 'starred-by'), ('repo', 'user', 'watched-by'), ('user', 'repo', 'fork'), ('user', 'repo', 'own'), ('user', 'repo', 'star'), ('user', 'repo', 'watch')]),\n",
       " Graph(num_nodes={'repo': 7054, 'user': 4417},\n",
       "       num_edges={('repo', 'forked-by', 'user'): 74, ('repo', 'owned-by', 'user'): 193, ('repo', 'starred-by', 'user'): 2841, ('repo', 'watched-by', 'user'): 1123, ('user', 'fork', 'repo'): 74, ('user', 'own', 'repo'): 193, ('user', 'star', 'repo'): 2841, ('user', 'watch', 'repo'): 1123},\n",
       "       metagraph=[('repo', 'user', 'forked-by'), ('repo', 'user', 'owned-by'), ('repo', 'user', 'starred-by'), ('repo', 'user', 'watched-by'), ('user', 'repo', 'fork'), ('user', 'repo', 'own'), ('user', 'repo', 'star'), ('user', 'repo', 'watch')]),\n",
       " Graph(num_nodes={'repo': 7054, 'user': 4417},\n",
       "       num_edges={('repo', 'forked-by', 'user'): 74, ('repo', 'owned-by', 'user'): 193, ('repo', 'starred-by', 'user'): 2841, ('repo', 'watched-by', 'user'): 1123, ('user', 'fork', 'repo'): 74, ('user', 'own', 'repo'): 193, ('user', 'star', 'repo'): 2841, ('user', 'watch', 'repo'): 1123},\n",
       "       metagraph=[('repo', 'user', 'forked-by'), ('repo', 'user', 'owned-by'), ('repo', 'user', 'starred-by'), ('repo', 'user', 'watched-by'), ('user', 'repo', 'fork'), ('user', 'repo', 'own'), ('user', 'repo', 'star'), ('user', 'repo', 'watch')])]"
      ]
     },
     "execution_count": 3,
     "metadata": {},
     "output_type": "execute_result"
    }
   ],
   "source": [
    "g, l = dgl.load_graphs('../data/sub_kowledge_graph.bin')\n",
    "g"
   ]
  },
  {
   "cell_type": "code",
   "execution_count": 3,
   "metadata": {},
   "outputs": [],
   "source": [
    "train_graph = g[0]\n",
    "valid_graph = g[1]\n",
    "test_graph = g[2]"
   ]
  },
  {
   "cell_type": "code",
   "execution_count": 89,
   "metadata": {},
   "outputs": [
    {
     "data": {
      "text/plain": [
       "tensor([   0,    1,    2,  ..., 8518, 8519, 8520])"
      ]
     },
     "execution_count": 89,
     "metadata": {},
     "output_type": "execute_result"
    }
   ],
   "source": [
    "edges = train_graph.edges(etype=('user', 'star', 'repo'))\n",
    "train_graph.edge_ids(edges[0], edges[1], etype=('user', 'star', 'repo'))"
   ]
  },
  {
   "cell_type": "code",
   "execution_count": 68,
   "metadata": {},
   "outputs": [
    {
     "data": {
      "text/plain": [
       "5170"
      ]
     },
     "execution_count": 68,
     "metadata": {},
     "output_type": "execute_result"
    }
   ],
   "source": [
    "train_graph.number_of_nodes('repo')"
   ]
  },
  {
   "cell_type": "code",
   "execution_count": 4,
   "metadata": {},
   "outputs": [],
   "source": [
    "train_graph.ndata['statistic_data'] = {\n",
    "    'repo': torch.ones(train_graph.number_of_nodes('repo')),\n",
    "    'user': torch.ones(train_graph.number_of_nodes('user'))\n",
    "}"
   ]
  },
  {
   "cell_type": "code",
   "execution_count": 5,
   "metadata": {},
   "outputs": [],
   "source": [
    "valid_graph.ndata['statistic_data'] = {\n",
    "    'repo': torch.ones(valid_graph.number_of_nodes('repo')),\n",
    "    'user': torch.ones(valid_graph.number_of_nodes('user'))\n",
    "}"
   ]
  },
  {
   "cell_type": "code",
   "execution_count": 6,
   "metadata": {},
   "outputs": [],
   "source": [
    "test_graph.ndata['statistic_data'] = {\n",
    "    'repo': torch.ones(test_graph.number_of_nodes('repo')),\n",
    "    'user': torch.ones(test_graph.number_of_nodes('user'))\n",
    "}"
   ]
  },
  {
   "cell_type": "code",
   "execution_count": 93,
   "metadata": {},
   "outputs": [
    {
     "data": {
      "text/plain": [
       "{'repo': tensor([1., 1., 1.,  ..., 1., 1., 1.]),\n",
       " 'user': tensor([1., 1., 1.,  ..., 1., 1., 1.])}"
      ]
     },
     "execution_count": 93,
     "metadata": {},
     "output_type": "execute_result"
    }
   ],
   "source": [
    "train_graph.ndata['statistic_data']"
   ]
  },
  {
   "cell_type": "code",
   "execution_count": 7,
   "metadata": {},
   "outputs": [],
   "source": [
    "train_graph.update_all(fn.copy_src('statistic_data', 'm'), fn.sum('m', 'user_repo'))"
   ]
  },
  {
   "cell_type": "code",
   "execution_count": 8,
   "metadata": {},
   "outputs": [],
   "source": [
    "valid_graph.update_all(fn.copy_src('statistic_data', 'm'), fn.sum('m', 'user_repo'))"
   ]
  },
  {
   "cell_type": "code",
   "execution_count": 9,
   "metadata": {},
   "outputs": [],
   "source": [
    "test_graph.update_all(fn.copy_src('statistic_data', 'm'), fn.sum('m', 'user_repo'))"
   ]
  },
  {
   "cell_type": "code",
   "execution_count": 97,
   "metadata": {},
   "outputs": [
    {
     "data": {
      "text/plain": [
       "torch.Size([2408])"
      ]
     },
     "execution_count": 97,
     "metadata": {},
     "output_type": "execute_result"
    }
   ],
   "source": [
    "valid_graph.ndata['user_repo']['repo'].shape"
   ]
  },
  {
   "cell_type": "code",
   "execution_count": 10,
   "metadata": {},
   "outputs": [],
   "source": [
    "train_users_per_repo = train_graph.ndata['user_repo']['repo'].numpy()"
   ]
  },
  {
   "cell_type": "code",
   "execution_count": 11,
   "metadata": {},
   "outputs": [],
   "source": [
    "valid_users_per_repo = valid_graph.ndata['user_repo']['repo'].numpy()"
   ]
  },
  {
   "cell_type": "code",
   "execution_count": 12,
   "metadata": {},
   "outputs": [],
   "source": [
    "test_users_per_repo = test_graph.ndata['user_repo']['repo'].numpy()"
   ]
  },
  {
   "cell_type": "code",
   "execution_count": 101,
   "metadata": {},
   "outputs": [
    {
     "data": {
      "text/plain": [
       "array([15., 35.,  3., ...,  1.,  1.,  1.], dtype=float32)"
      ]
     },
     "execution_count": 101,
     "metadata": {},
     "output_type": "execute_result"
    }
   ],
   "source": [
    "train_graph.ndata['user_repo']['user'].numpy()"
   ]
  },
  {
   "cell_type": "code",
   "execution_count": 102,
   "metadata": {},
   "outputs": [
    {
     "data": {
      "text/plain": [
       "{'whiskers': [<matplotlib.lines.Line2D at 0x7f0688076d60>,\n",
       "  <matplotlib.lines.Line2D at 0x7f0688069130>],\n",
       " 'caps': [<matplotlib.lines.Line2D at 0x7f06880694c0>,\n",
       "  <matplotlib.lines.Line2D at 0x7f0688069850>],\n",
       " 'boxes': [<matplotlib.lines.Line2D at 0x7f06880769d0>],\n",
       " 'medians': [<matplotlib.lines.Line2D at 0x7f0688069be0>],\n",
       " 'fliers': [<matplotlib.lines.Line2D at 0x7f0688069f70>],\n",
       " 'means': []}"
      ]
     },
     "execution_count": 102,
     "metadata": {},
     "output_type": "execute_result"
    },
    {
     "data": {
      "image/png": "[encoded data removed]",
      "text/plain": [
       "<Figure size 432x288 with 1 Axes>"
      ]
     },
     "metadata": {
      "needs_background": "light"
     },
     "output_type": "display_data"
    }
   ],
   "source": [
    "plt.boxplot(train_users_per_repo)"
   ]
  },
  {
   "cell_type": "code",
   "execution_count": 103,
   "metadata": {},
   "outputs": [
    {
     "data": {
      "text/plain": [
       "{'whiskers': [<matplotlib.lines.Line2D at 0x7f0687edb460>,\n",
       "  <matplotlib.lines.Line2D at 0x7f0687edb820>],\n",
       " 'caps': [<matplotlib.lines.Line2D at 0x7f0687edbbb0>,\n",
       "  <matplotlib.lines.Line2D at 0x7f0687edbf40>],\n",
       " 'boxes': [<matplotlib.lines.Line2D at 0x7f0687edb220>],\n",
       " 'medians': [<matplotlib.lines.Line2D at 0x7f0687ec4310>],\n",
       " 'fliers': [<matplotlib.lines.Line2D at 0x7f0687ec46a0>],\n",
       " 'means': []}"
      ]
     },
     "execution_count": 103,
     "metadata": {},
     "output_type": "execute_result"
    },
    {
     "data": {
      "image/png": "[encoded data removed]",
      "text/plain": [
       "<Figure size 432x288 with 1 Axes>"
      ]
     },
     "metadata": {
      "needs_background": "light"
     },
     "output_type": "display_data"
    }
   ],
   "source": [
    "plt.boxplot(valid_users_per_repo)"
   ]
  },
  {
   "cell_type": "code",
   "execution_count": 104,
   "metadata": {},
   "outputs": [
    {
     "data": {
      "text/plain": [
       "{'whiskers': [<matplotlib.lines.Line2D at 0x7f0688111730>,\n",
       "  <matplotlib.lines.Line2D at 0x7f0688111ac0>],\n",
       " 'caps': [<matplotlib.lines.Line2D at 0x7f0688111e50>,\n",
       "  <matplotlib.lines.Line2D at 0x7f06880f9220>],\n",
       " 'boxes': [<matplotlib.lines.Line2D at 0x7f06881114c0>],\n",
       " 'medians': [<matplotlib.lines.Line2D at 0x7f06880f95b0>],\n",
       " 'fliers': [<matplotlib.lines.Line2D at 0x7f06880f9940>],\n",
       " 'means': []}"
      ]
     },
     "execution_count": 104,
     "metadata": {},
     "output_type": "execute_result"
    },
    {
     "data": {
      "image/png": "[encoded data removed]",
      "text/plain": [
       "<Figure size 432x288 with 1 Axes>"
      ]
     },
     "metadata": {
      "needs_background": "light"
     },
     "output_type": "display_data"
    }
   ],
   "source": [
    "plt.boxplot(test_users_per_repo)"
   ]
  },
  {
   "cell_type": "code",
   "execution_count": 105,
   "metadata": {},
   "outputs": [
    {
     "data": {
      "text/plain": [
       "{'whiskers': [<matplotlib.lines.Line2D at 0x7f0687f4d5b0>,\n",
       "  <matplotlib.lines.Line2D at 0x7f0687f4d940>],\n",
       " 'caps': [<matplotlib.lines.Line2D at 0x7f0687f4dcd0>,\n",
       "  <matplotlib.lines.Line2D at 0x7f0687f3d0a0>],\n",
       " 'boxes': [<matplotlib.lines.Line2D at 0x7f0687f4d340>],\n",
       " 'medians': [<matplotlib.lines.Line2D at 0x7f0687f3d430>],\n",
       " 'fliers': [<matplotlib.lines.Line2D at 0x7f0687f3d7c0>],\n",
       " 'means': []}"
      ]
     },
     "execution_count": 105,
     "metadata": {},
     "output_type": "execute_result"
    },
    {
     "data": {
      "image/png": "[encoded data removed]",
      "text/plain": [
       "<Figure size 432x288 with 1 Axes>"
      ]
     },
     "metadata": {
      "needs_background": "light"
     },
     "output_type": "display_data"
    }
   ],
   "source": [
    "plt.boxplot(users_per_repo[users_per_repo<55])"
   ]
  },
  {
   "cell_type": "code",
   "execution_count": 55,
   "metadata": {},
   "outputs": [],
   "source": [
    "# remove outliner\n",
    "users_per_repo = users_per_repo[users_per_repo<20]"
   ]
  },
  {
   "cell_type": "code",
   "execution_count": 13,
   "metadata": {},
   "outputs": [
    {
     "data": {
      "text/plain": [
       "Text(0.5, 1.0, 'Distribution of users per repository -- train')"
      ]
     },
     "execution_count": 13,
     "metadata": {},
     "output_type": "execute_result"
    },
    {
     "data": {
      "image/png": "[encoded data removed]",
      "text/plain": [
       "<Figure size 432x288 with 1 Axes>"
      ]
     },
     "metadata": {
      "needs_background": "light"
     },
     "output_type": "display_data"
    }
   ],
   "source": [
    "plt.hist(train_users_per_repo, density=True)\n",
    "plt.xlabel('Number of users per repository')\n",
    "plt.ylabel('Probability density')\n",
    "plt.title('Distribution of users per repository -- train')"
   ]
  },
  {
   "cell_type": "code",
   "execution_count": 14,
   "metadata": {},
   "outputs": [
    {
     "data": {
      "text/plain": [
       "Text(0.5, 1.0, 'Distribution of users per repository -- valid')"
      ]
     },
     "execution_count": 14,
     "metadata": {},
     "output_type": "execute_result"
    },
    {
     "data": {
      "image/png": "[encoded data removed]",
      "text/plain": [
       "<Figure size 432x288 with 1 Axes>"
      ]
     },
     "metadata": {
      "needs_background": "light"
     },
     "output_type": "display_data"
    }
   ],
   "source": [
    "plt.hist(valid_users_per_repo, density=True)\n",
    "plt.xlabel('Number of users per repository')\n",
    "plt.ylabel('Probability density')\n",
    "plt.title('Distribution of users per repository -- valid')"
   ]
  },
  {
   "cell_type": "code",
   "execution_count": 15,
   "metadata": {},
   "outputs": [
    {
     "data": {
      "text/plain": [
       "Text(0.5, 1.0, 'Distribution of users per repository -- test')"
      ]
     },
     "execution_count": 15,
     "metadata": {},
     "output_type": "execute_result"
    },
    {
     "data": {
      "image/png": "[encoded data removed]",
      "text/plain": [
       "<Figure size 432x288 with 1 Axes>"
      ]
     },
     "metadata": {
      "needs_background": "light"
     },
     "output_type": "display_data"
    }
   ],
   "source": [
    "plt.hist(test_users_per_repo, density=True)\n",
    "plt.xlabel('Number of users per repository')\n",
    "plt.ylabel('Probability density')\n",
    "plt.title('Distribution of users per repository -- test')"
   ]
  },
  {
   "cell_type": "code",
   "execution_count": 109,
   "metadata": {},
   "outputs": [],
   "source": [
    "train_arg_sort = np.argsort(train_users_per_repo)[::-1]\n",
    "sorted_train_users_per_repo = train_users_per_repo[train_arg_sort]\n",
    "\n",
    "valid_arg_sort = np.argsort(valid_users_per_repo)[::-1]\n",
    "sorted_valid_users_per_repo = valid_users_per_repo[valid_arg_sort]\n",
    "\n",
    "test_arg_sort = np.argsort(test_users_per_repo)[::-1]\n",
    "sorted_test_users_per_repo = test_users_per_repo[test_arg_sort]"
   ]
  },
  {
   "cell_type": "code",
   "execution_count": 110,
   "metadata": {},
   "outputs": [
    {
     "data": {
      "text/plain": [
       "Text(0.5, 1.0, 'Distribution of users per repository -- train')"
      ]
     },
     "execution_count": 110,
     "metadata": {},
     "output_type": "execute_result"
    },
    {
     "data": {
      "image/png": "[encoded data removed]",
      "text/plain": [
       "<Figure size 432x288 with 1 Axes>"
      ]
     },
     "metadata": {
      "needs_background": "light"
     },
     "output_type": "display_data"
    }
   ],
   "source": [
    "plt.bar(range(len(sorted_train_users_per_repo)), sorted_train_users_per_repo)\n",
    "plt.xlabel('Repositories')\n",
    "plt.ylabel('Number of users per repository')\n",
    "plt.title('Distribution of users per repository -- train')"
   ]
  },
  {
   "cell_type": "code",
   "execution_count": 111,
   "metadata": {},
   "outputs": [
    {
     "data": {
      "text/plain": [
       "Text(0.5, 1.0, 'Distribution of users per repository -- valid')"
      ]
     },
     "execution_count": 111,
     "metadata": {},
     "output_type": "execute_result"
    },
    {
     "data": {
      "image/png": "[encoded data removed]",
      "text/plain": [
       "<Figure size 432x288 with 1 Axes>"
      ]
     },
     "metadata": {
      "needs_background": "light"
     },
     "output_type": "display_data"
    }
   ],
   "source": [
    "plt.bar(range(len(sorted_valid_users_per_repo)), sorted_valid_users_per_repo)\n",
    "plt.xlabel('Repositories')\n",
    "plt.ylabel('Number of users per repository')\n",
    "plt.title('Distribution of users per repository -- valid')"
   ]
  },
  {
   "cell_type": "code",
   "execution_count": 112,
   "metadata": {},
   "outputs": [
    {
     "data": {
      "text/plain": [
       "Text(0.5, 1.0, 'Distribution of users per repository -- test')"
      ]
     },
     "execution_count": 112,
     "metadata": {},
     "output_type": "execute_result"
    },
    {
     "data": {
      "image/png": "[encoded data removed]",
      "text/plain": [
       "<Figure size 432x288 with 1 Axes>"
      ]
     },
     "metadata": {
      "needs_background": "light"
     },
     "output_type": "display_data"
    }
   ],
   "source": [
    "plt.bar(range(len(sorted_test_users_per_repo)), sorted_test_users_per_repo)\n",
    "plt.xlabel('Repositories')\n",
    "plt.ylabel('Number of users per repository')\n",
    "plt.title('Distribution of users per repository -- test')"
   ]
  }
 ],
 "metadata": {
  "interpreter": {
   "hash": "4f8a906eafa2bdbbeb64e6a5d52419f385a474e7a085cb9b6034c82d8baa4449"
  },
  "kernelspec": {
   "display_name": "Python 3 (ipykernel)",
   "language": "python",
   "name": "python3"
  },
  "language_info": {
   "codemirror_mode": {
    "name": "ipython",
    "version": 3
   },
   "file_extension": ".py",
   "mimetype": "text/x-python",
   "name": "python",
   "nbconvert_exporter": "python",
   "pygments_lexer": "ipython3",
   "version": "3.8.10"
  }
 },
 "nbformat": 4,
 "nbformat_minor": 2
}
