{
 "cells": [
  {
   "cell_type": "code",
   "execution_count": 2,
   "id": "b221bca3",
   "metadata": {},
   "outputs": [
    {
     "name": "stderr",
     "output_type": "stream",
     "text": [
      "Using backend: pytorch\n"
     ]
    }
   ],
   "source": [
    "import sys\n",
    "sys.path.append('..')\n",
    "\n",
    "import dgl\n",
    "import torch\n",
    "import torch.nn.functional as F\n",
    "import numpy as np\n",
    "import matplotlib.pyplot as plt\n",
    "import pandas as pd\n",
    "from KGCN import Model, loss_fn\n",
    "from sklearn.metrics import roc_auc_score\n",
    "from util import Group"
   ]
  },
  {
   "cell_type": "code",
   "execution_count": 3,
   "id": "2c95ecb8",
   "metadata": {},
   "outputs": [],
   "source": [
    "def process_graph(graph: dgl.heterograph):\n",
    "    number_of_users = graph.num_nodes('user')\n",
    "    number_of_repos = graph.num_nodes('repo')\n",
    "    ground_truth = torch.zeros((number_of_users, number_of_repos), dtype=torch.int8)\n",
    "    user_repo = torch.zeros((number_of_users, number_of_repos), dtype=torch.int8)\n",
    "    for etype in graph.canonical_etypes:\n",
    "        # ignore the reverse relation\n",
    "        if etype[0] != 'user' and etype[1] != 'repo':\n",
    "            continue\n",
    "\n",
    "        edges = graph.edges(etype=etype)\n",
    "\n",
    "        ground_truth[edges[0], edges[1]] = 1\n",
    "        user_repo[edges[0], edges[1]] = 1\n",
    "    \n",
    "    repos_per_user = torch.sum(user_repo, axis=1)\n",
    "\n",
    "    return ground_truth, repos_per_user.numpy()"
   ]
  },
  {
   "cell_type": "code",
   "execution_count": 4,
   "id": "725200ce",
   "metadata": {},
   "outputs": [],
   "source": [
    "def process_edge_data(graph, edge_data):\n",
    "    number_of_users = graph.num_nodes('user')\n",
    "    number_of_repos = graph.num_nodes('repo')\n",
    "    ratings = np.zeros((number_of_users, number_of_repos))\n",
    "    for etype in graph.canonical_etypes:\n",
    "        # ignore the reverse relation\n",
    "        if etype[0] != 'user' and etype[1] != 'repo':\n",
    "            continue\n",
    "        \n",
    "        edges = graph.edges(etype=etype)\n",
    "        data = torch.squeeze(edge_data[etype]).numpy()\n",
    "        ratings[edges[0], edges[1]] = np.maximum(ratings[edges[0], edges[1]], data)\n",
    "    \n",
    "    return ratings"
   ]
  },
  {
   "cell_type": "code",
   "execution_count": 5,
   "id": "51100851",
   "metadata": {},
   "outputs": [],
   "source": [
    "def compute_auc(graph, pos_score, neg_score):\n",
    "    auc_scores = []\n",
    "    for etype in graph.canonical_etypes:\n",
    "        # ignore the reverse relation\n",
    "        if etype[0] != 'user' and etype[1] != 'repo':\n",
    "            continue\n",
    "        \n",
    "        pos_data = torch.squeeze(pos_score[etype])\n",
    "        neg_data = torch.squeeze(neg_score[etype])\n",
    "        \n",
    "        scores = torch.cat([pos_data, neg_data]).numpy()\n",
    "        labels = torch.cat(\n",
    "            [torch.ones(pos_data.shape[0]), torch.zeros(neg_data.shape[0])]).numpy()\n",
    "\n",
    "        auc_score = roc_auc_score(labels, scores)\n",
    "\n",
    "        auc_scores.append(auc_score)\n",
    "    \n",
    "    return np.mean(auc_scores)"
   ]
  },
  {
   "cell_type": "code",
   "execution_count": 6,
   "id": "9b80b4a2",
   "metadata": {},
   "outputs": [],
   "source": [
    "g, l = dgl.load_graphs('../data/sub_kowledge_graph.bin')\n",
    "train_graph = g[0]\n",
    "valid_graph = g[1]\n",
    "test_graph = g[2]\n",
    "train_pos_g = g[3]\n",
    "train_neg_g = g[4]\n",
    "valid_pos_g = g[5]\n",
    "valid_neg_g = g[6]\n",
    "test_pos_g = g[7]\n",
    "test_neg_g = g[8]\n",
    "\n",
    "user_feat = train_graph.ndata['graph_data']['user']\n",
    "repo_feat = train_graph.ndata['graph_data']['repo']\n",
    "\n",
    "EPOCH = 100\n",
    "TOP_K = 10\n",
    "REPO_INPUT_SIZE = repo_feat.shape[1]\n",
    "USER_INPUT_SIZE = user_feat.shape[1]\n",
    "USER_REPO_OUTPUT_SIZE = 125\n",
    "HIDDEN_OUTPUT_SIZE = 96\n",
    "OUT_SIZE = 50"
   ]
  },
  {
   "cell_type": "code",
   "execution_count": 19,
   "id": "61c850e9",
   "metadata": {},
   "outputs": [],
   "source": [
    "learning_rates = (0.001, 0.005, 0.01, 0.02, 0.05, 0.09, 0.1)\n",
    "\n",
    "training_results = {}\n",
    "\n",
    "for lr in learning_rates:\n",
    "    model = Model(train_graph, USER_INPUT_SIZE, REPO_INPUT_SIZE, USER_REPO_OUTPUT_SIZE, HIDDEN_OUTPUT_SIZE, OUT_SIZE)\n",
    "    optimizer = torch.optim.Adam(model.parameters(), lr=lr)\n",
    "\n",
    "    ground_truth_valid_data, repos_per_user_valid = process_graph(valid_graph)\n",
    "    ground_truth_test_data, repos_per_user_test = process_graph(test_graph)\n",
    "\n",
    "    training_loops = 0\n",
    "    total_loss = 0\n",
    "    total_valid_loss = 0\n",
    "    valid_loss = 0\n",
    "\n",
    "    for epoch in range(EPOCH):\n",
    "        model.train()\n",
    "        pos_score, neg_score = model(train_graph, train_pos_g, train_neg_g, user_feat, repo_feat)\n",
    "        loss = loss_fn(pos_score, neg_score)\n",
    "\n",
    "        total_loss += loss.item()\n",
    "        training_loops += 1\n",
    "\n",
    "        # Backward\n",
    "        optimizer.zero_grad()\n",
    "        loss.backward()\n",
    "        optimizer.step()\n",
    "\n",
    "        train_avg_loss = total_loss / training_loops\n",
    "\n",
    "        model.eval()\n",
    "        with torch.no_grad():\n",
    "            valid_user_feat = valid_graph.ndata['graph_data']['user']\n",
    "            valid_repo_feat = valid_graph.ndata['graph_data']['repo']\n",
    "            pos_score, neg_score = model(valid_graph, valid_pos_g, valid_neg_g, valid_user_feat, valid_repo_feat)\n",
    "            valid_loss = loss_fn(pos_score, neg_score)\n",
    "            total_valid_loss += valid_loss.item()\n",
    "            valid_avg_loss = total_valid_loss / training_loops\n",
    "\n",
    "        # conpute the AUC score\n",
    "        auc_score = 0\n",
    "        model.eval()\n",
    "        with torch.no_grad():\n",
    "            h_user = model.user_embedding(train_graph.ndata['graph_data']['user'])\n",
    "            h_repo = model.repo_embedding(train_graph.ndata['graph_data']['repo'])\n",
    "\n",
    "            h_dict = {\n",
    "                'user': h_user,\n",
    "                'repo': h_repo\n",
    "            }\n",
    "\n",
    "            h = model.hidden(train_graph, h_dict)\n",
    "            out = model.out(train_graph, h)\n",
    "\n",
    "            pos_score = model.predict(test_pos_g, out)\n",
    "            neg_score = model.predict(test_neg_g, out)\n",
    "\n",
    "            auc_score = compute_auc(train_graph, pos_score, neg_score)\n",
    "\n",
    "            epoch_results = [\n",
    "                epoch, \n",
    "                train_avg_loss, \n",
    "                valid_avg_loss,\n",
    "                auc_score\n",
    "            ]\n",
    "\n",
    "            if lr not in training_results:\n",
    "                training_results[lr] = []\n",
    "                \n",
    "            training_results[lr].append(epoch_results)"
   ]
  },
  {
   "cell_type": "code",
   "execution_count": 20,
   "id": "926a210b",
   "metadata": {},
   "outputs": [],
   "source": [
    "data_columns = [\n",
    "    'epoch', \n",
    "    'loss', \n",
    "    'valid loss',\n",
    "    'auc'\n",
    "]\n",
    "\n",
    "data = []\n",
    "for lr in learning_rates:\n",
    "    data.append(pd.DataFrame(training_results[lr], columns=data_columns))"
   ]
  },
  {
   "cell_type": "code",
   "execution_count": 21,
   "id": "232b959f",
   "metadata": {},
   "outputs": [
    {
     "data": {
      "text/plain": [
       "<matplotlib.legend.Legend at 0x7f12dbe6ceb0>"
      ]
     },
     "execution_count": 21,
     "metadata": {},
     "output_type": "execute_result"
    },
    {
     "data": {
      "image/png": "[encoded data removed]",
      "text/plain": [
       "<Figure size 432x288 with 1 Axes>"
      ]
     },
     "metadata": {
      "needs_background": "light"
     },
     "output_type": "display_data"
    }
   ],
   "source": [
    "for i, d in enumerate(data):\n",
    "    plt.plot(d['epoch'], d['auc'], label='learning rate - %s' % learning_rates[i])\n",
    "plt.xlabel('Epoch')\n",
    "plt.ylabel('AUC')\n",
    "plt.title('AUC per epoch')\n",
    "plt.legend()"
   ]
  }
 ],
 "metadata": {
  "interpreter": {
   "hash": "916dbcbb3f70747c44a77c7bcd40155683ae19c65e1c03b4aa3499c5328201f1"
  },
  "kernelspec": {
   "display_name": "Python 3.8.10 64-bit",
   "name": "python3"
  },
  "language_info": {
   "codemirror_mode": {
    "name": "ipython",
    "version": 3
   },
   "file_extension": ".py",
   "mimetype": "text/x-python",
   "name": "python",
   "nbconvert_exporter": "python",
   "pygments_lexer": "ipython3",
   "version": "3.8.10"
  }
 },
 "nbformat": 4,
 "nbformat_minor": 5
}
